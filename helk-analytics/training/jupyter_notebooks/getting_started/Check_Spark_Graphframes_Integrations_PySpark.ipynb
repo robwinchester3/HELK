{
 "cells": [
  {
   "cell_type": "markdown",
   "metadata": {},
   "source": [
    "# HELK: Checking Spark and Graphframe Integrations\n",
    "----------------------------------------------------------------------------\n",
    "## Goals:\n",
    "* Test if Jupyter can talk to Spark & Graphframes\n",
    "* Test if Spark & Graphframes can pull data from ES\n",
    "* Show the basics of the HELK integrations with advanced analytics libraries"
   ]
  },
  {
   "cell_type": "markdown",
   "metadata": {},
   "source": [
    "## Check the Spark Context via the variable sc "
   ]
  },
  {
   "cell_type": "code",
   "execution_count": 1,
   "metadata": {},
   "outputs": [
    {
     "data": {
      "text/html": [
       "\n",
       "            <div>\n",
       "                <p><b>SparkSession - hive</b></p>\n",
       "                \n",
       "        <div>\n",
       "            <p><b>SparkContext</b></p>\n",
       "\n",
       "            <p><a href=\"http://d4b8870c82b8:4040\">Spark UI</a></p>\n",
       "\n",
       "            <dl>\n",
       "              <dt>Version</dt>\n",
       "                <dd><code>v2.3.0</code></dd>\n",
       "              <dt>Master</dt>\n",
       "                <dd><code>local[*]</code></dd>\n",
       "              <dt>AppName</dt>\n",
       "                <dd><code>PySparkShell</code></dd>\n",
       "            </dl>\n",
       "        </div>\n",
       "        \n",
       "            </div>\n",
       "        "
      ],
      "text/plain": [
       "<pyspark.sql.session.SparkSession at 0x7fe2f03c17b8>"
      ]
     },
     "execution_count": 1,
     "metadata": {},
     "output_type": "execute_result"
    }
   ],
   "source": [
    "spark"
   ]
  },
  {
   "cell_type": "markdown",
   "metadata": {},
   "source": [
    "## Create a Spark RDD on top of Elasticsearch (logs-endpoint-winevent-sysmon-* as source)"
   ]
  },
  {
   "cell_type": "code",
   "execution_count": 2,
   "metadata": {},
   "outputs": [
    {
     "data": {
      "text/plain": [
       "('1993576943',\n",
       " {'@meta': {'sysmon': {'timestamp': '2018-03-02T02:12:06.358Z'}},\n",
       "  '@timestamp': '2018-03-02T02:12:06.385Z',\n",
       "  '@version': '1',\n",
       "  'action': 'ImageLoad',\n",
       "  'beat': {'hostname': 'DESKTOP-29DJI4T',\n",
       "   'name': 'DESKTOP-29DJI4T',\n",
       "   'version': '6.1.2'},\n",
       "  'event_id': 7,\n",
       "  'hash_imphash': '23962D464328E40D1669494350F0B838',\n",
       "  'hash_md5': '0370364D4D8846B6CF316ABBB2EDB083',\n",
       "  'hash_sha1': '04F79F876D6CA5F941C242A085EE7B506B53B03D',\n",
       "  'hash_sha256': '6F0FF65C9FB132FBC96AB55AB14D285CFA94B2EB90A24DA6CC72E0FD72C1ABFE',\n",
       "  'host_name': 'DESKTOP-29DJI4T',\n",
       "  'image_loaded': 'C:\\\\Windows\\\\System32\\\\user32.dll',\n",
       "  'image_signature': 'Microsoft Windows',\n",
       "  'image_signature_status': 'Valid',\n",
       "  'image_signed': True,\n",
       "  'level': 'Information',\n",
       "  'log_name': 'Microsoft-Windows-Sysmon/Operational',\n",
       "  'opcode': 'Info',\n",
       "  'process_guid': 'A98268C1-B2F6-5A98-0000-001003F8AA00',\n",
       "  'process_id': 7060,\n",
       "  'process_name': 'SearchProtocolHost.exe',\n",
       "  'process_path': 'C:\\\\Windows\\\\System32\\\\SearchProtocolHost.exe',\n",
       "  'provider_guid': '{5770385F-C22A-43E0-BF4C-06F5698FFBD9}',\n",
       "  'record_number': '7688652',\n",
       "  'reporter_user_domain': 'NT AUTHORITY',\n",
       "  'reporter_user_name': 'SYSTEM',\n",
       "  'reporter_user_sid': 'S-1-5-18',\n",
       "  'reporter_user_type': 'User',\n",
       "  'source_name': 'Microsoft-Windows-Sysmon',\n",
       "  'task': 'Image loaded (rule: ImageLoad)',\n",
       "  'thread_id': 3360,\n",
       "  'type': 'wineventlog',\n",
       "  'user': {},\n",
       "  'version': 3})"
      ]
     },
     "execution_count": 2,
     "metadata": {},
     "output_type": "execute_result"
    }
   ],
   "source": [
    "es_rdd = sc.newAPIHadoopRDD(\n",
    "    inputFormatClass=\"org.elasticsearch.hadoop.mr.EsInputFormat\",\n",
    "    keyClass=\"org.apache.hadoop.io.NullWritable\",\n",
    "    valueClass=\"org.elasticsearch.hadoop.mr.LinkedMapWritable\",\n",
    "    conf={ \n",
    "        \"es.resource\" : \"logs-endpoint-winevent-sysmon-*/doc\",\n",
    "        \"es.nodes\" : \"172.18.0.2\"\n",
    "    })\n",
    "es_rdd.first()"
   ]
  },
  {
   "cell_type": "markdown",
   "metadata": {},
   "source": [
    "## Create a Spark RDD on top of Elasticsearch (logs-endpoint-winevent-security-* as source)"
   ]
  },
  {
   "cell_type": "code",
   "execution_count": 3,
   "metadata": {},
   "outputs": [
    {
     "data": {
      "text/plain": [
       "('909277456',\n",
       " {'@timestamp': '2018-03-02T05:05:48.098Z',\n",
       "  '@version': '1',\n",
       "  'activity_id': '{39A12F75-B12B-0000-AA30-A1392BB1D301}',\n",
       "  'beat': {'hostname': 'DESKTOP-29DJI4T',\n",
       "   'name': 'DESKTOP-29DJI4T',\n",
       "   'version': '6.1.2'},\n",
       "  'event_data': {},\n",
       "  'event_id': 4624,\n",
       "  'host_name': 'DESKTOP-29DJI4T',\n",
       "  'impersonation_level': '%%1833',\n",
       "  'keywords': ('Audit Success',),\n",
       "  'level': 'Information',\n",
       "  'log_name': 'Security',\n",
       "  'logon_authentication_package': 'Negotiate',\n",
       "  'logon_elevated_token': '%%1843',\n",
       "  'logon_key_length': '0',\n",
       "  'logon_package_name': '-',\n",
       "  'logon_process_name': 'User32 ',\n",
       "  'logon_restricted_adminmode': '-',\n",
       "  'logon_transmitted_services': '-',\n",
       "  'logon_type': '2',\n",
       "  'logon_virtual_account': '%%1843',\n",
       "  'message': 'An account was successfully logged on.\\n\\nSubject:\\n\\tSecurity ID:\\t\\tS-1-5-18\\n\\tAccount Name:\\t\\tDESKTOP-29DJI4T$\\n\\tAccount Domain:\\t\\tWORKGROUP\\n\\tLogon ID:\\t\\t0x3E7\\n\\nLogon Information:\\n\\tLogon Type:\\t\\t2\\n\\tRestricted Admin Mode:\\t-\\n\\tVirtual Account:\\t\\tNo\\n\\tElevated Token:\\t\\tNo\\n\\nImpersonation Level:\\t\\tImpersonation\\n\\nNew Logon:\\n\\tSecurity ID:\\t\\tS-1-5-21-3825400013-1856045589-1834093677-1001\\n\\tAccount Name:\\t\\twardog\\n\\tAccount Domain:\\t\\tDESKTOP-29DJI4T\\n\\tLogon ID:\\t\\t0xB47FB9\\n\\tLinked Logon ID:\\t\\t0xB47F96\\n\\tNetwork Account Name:\\t-\\n\\tNetwork Account Domain:\\t-\\n\\tLogon GUID:\\t\\t{00000000-0000-0000-0000-000000000000}\\n\\nProcess Information:\\n\\tProcess ID:\\t\\t0x254\\n\\tProcess Name:\\t\\tC:\\\\Windows\\\\System32\\\\svchost.exe\\n\\nNetwork Information:\\n\\tWorkstation Name:\\tDESKTOP-29DJI4T\\n\\tSource Network Address:\\t127.0.0.1\\n\\tSource Port:\\t\\t0\\n\\nDetailed Authentication Information:\\n\\tLogon Process:\\t\\tUser32 \\n\\tAuthentication Package:\\tNegotiate\\n\\tTransited Services:\\t-\\n\\tPackage Name (NTLM only):\\t-\\n\\tKey Length:\\t\\t0\\n\\nThis event is generated when a logon session is created. It is generated on the computer that was accessed.\\n\\nThe subject fields indicate the account on the local system which requested the logon. This is most commonly a service such as the Server service, or a local process such as Winlogon.exe or Services.exe.\\n\\nThe logon type field indicates the kind of logon that occurred. The most common types are 2 (interactive) and 3 (network).\\n\\nThe New Logon fields indicate the account for whom the new logon was created, i.e. the account that was logged on.\\n\\nThe network fields indicate where a remote logon request originated. Workstation name is not always available and may be left blank in some cases.\\n\\nThe impersonation level field indicates the extent to which a process in the logon session can impersonate.\\n\\nThe authentication information fields provide detailed information about this specific logon request.\\n\\t- Logon GUID is a unique identifier that can be used to correlate this event with a KDC event.\\n\\t- Transited services indicate which intermediate services have participated in this logon request.\\n\\t- Package name indicates which sub-protocol was used among the NTLM protocols.\\n\\t- Key length indicates the length of the generated session key. This will be 0 if no session key was requested.',\n",
       "  'opcode': 'Info',\n",
       "  'process_id': 0,\n",
       "  'process_name': 'svchost.exe',\n",
       "  'process_path': 'C:\\\\Windows\\\\System32\\\\svchost.exe',\n",
       "  'provider_guid': '{54849625-5478-4994-A5BA-3E3B0328C30D}',\n",
       "  'record_number': '8639',\n",
       "  'reporter_logon_id': '0x3e7',\n",
       "  'reporter_user_domain': 'WORKGROUP',\n",
       "  'reporter_user_name': 'DESKTOP-29DJI4T$',\n",
       "  'reporter_user_sid': 'S-1-5-18',\n",
       "  'source_name': 'Microsoft-Windows-Security-Auditing',\n",
       "  'src_host': 'DESKTOP-29DJI4T',\n",
       "  'src_ip': '127.0.0.1',\n",
       "  'src_port_number': 0,\n",
       "  'task': 'Logon',\n",
       "  'thread_id': 4148,\n",
       "  'type': 'wineventlog',\n",
       "  'user_domain': 'DESKTOP-29DJI4T',\n",
       "  'user_logon_guid': '00000000-0000-0000-0000-000000000000',\n",
       "  'user_logon_id': 11829177,\n",
       "  'user_logon_linkedid': '0xb47f96',\n",
       "  'user_name': 'wardog',\n",
       "  'user_networkaccount_domain': '-',\n",
       "  'user_networkaccount_name': '-',\n",
       "  'user_sid': 'S-1-5-21-3825400013-1856045589-1834093677-1001',\n",
       "  'version': 2})"
      ]
     },
     "execution_count": 3,
     "metadata": {},
     "output_type": "execute_result"
    }
   ],
   "source": [
    "es_rdd = sc.newAPIHadoopRDD(\n",
    "    inputFormatClass=\"org.elasticsearch.hadoop.mr.EsInputFormat\",\n",
    "    keyClass=\"org.apache.hadoop.io.NullWritable\",\n",
    "    valueClass=\"org.elasticsearch.hadoop.mr.LinkedMapWritable\",\n",
    "    conf={ \n",
    "        \"es.resource\" : \"logs-endpoint-winevent-security-*/doc\",\n",
    "        \"es.nodes\" : \"172.18.0.2\"\n",
    "    })\n",
    "es_rdd.first()"
   ]
  },
  {
   "cell_type": "markdown",
   "metadata": {},
   "source": [
    "## Import Graphframes package"
   ]
  },
  {
   "cell_type": "code",
   "execution_count": 4,
   "metadata": {},
   "outputs": [],
   "source": [
    "from graphframes import *"
   ]
  },
  {
   "cell_type": "code",
   "execution_count": 5,
   "metadata": {},
   "outputs": [
    {
     "name": "stdout",
     "output_type": "stream",
     "text": [
      "+---+--------+\n",
      "| id|inDegree|\n",
      "+---+--------+\n",
      "|  c|       1|\n",
      "|  b|       2|\n",
      "+---+--------+\n",
      "\n"
     ]
    },
    {
     "data": {
      "text/plain": [
       "2"
      ]
     },
     "execution_count": 5,
     "metadata": {},
     "output_type": "execute_result"
    }
   ],
   "source": [
    "# Create a Vertex DataFrame with unique ID column \"id\"\n",
    "v = sqlContext.createDataFrame([\n",
    "  (\"a\", \"Alice\", 34),\n",
    "  (\"b\", \"Bob\", 36),\n",
    "  (\"c\", \"Charlie\", 30),\n",
    "], [\"id\", \"name\", \"age\"])\n",
    "# Create an Edge DataFrame with \"src\" and \"dst\" columns\n",
    "e = sqlContext.createDataFrame([\n",
    "  (\"a\", \"b\", \"friend\"),\n",
    "  (\"b\", \"c\", \"follow\"),\n",
    "  (\"c\", \"b\", \"follow\"),\n",
    "], [\"src\", \"dst\", \"relationship\"])\n",
    "# Create a GraphFrame\n",
    "from graphframes import *\n",
    "g = GraphFrame(v, e)\n",
    "\n",
    "# Query: Get in-degree of each vertex.\n",
    "g.inDegrees.show()\n",
    "\n",
    "# Query: Count the number of \"follow\" connections in the graph.\n",
    "g.edges.filter(\"relationship = 'follow'\").count()"
   ]
  },
  {
   "cell_type": "markdown",
   "metadata": {},
   "source": [
    "## Create a basic SparkSession"
   ]
  },
  {
   "cell_type": "code",
   "execution_count": 5,
   "metadata": {},
   "outputs": [],
   "source": [
    "spark = SparkSession \\\n",
    "    .builder \\\n",
    "    .appName(\"HELK\") \\\n",
    "    .config(\"es.read.field.as.array.include\", \"tags\") \\\n",
    "    .config(\"es.nodes\",\"172.18.0.2:9200\") \\\n",
    "    .getOrCreate()"
   ]
  },
  {
   "cell_type": "markdown",
   "metadata": {},
   "source": [
    "## Spark SQL Basic query (logs-endpoint-winevent-security-* as source)"
   ]
  },
  {
   "cell_type": "code",
   "execution_count": 6,
   "metadata": {},
   "outputs": [],
   "source": [
    "df = spark.read.format(\"org.elasticsearch.spark.sql\").load(\"logs-endpoint-winevent-security-*/doc\")"
   ]
  },
  {
   "cell_type": "code",
   "execution_count": 7,
   "metadata": {},
   "outputs": [
    {
     "name": "stdout",
     "output_type": "stream",
     "text": [
      "root\n",
      " |-- @timestamp: timestamp (nullable = true)\n",
      " |-- @version: string (nullable = true)\n",
      " |-- activity_id: string (nullable = true)\n",
      " |-- beat: struct (nullable = true)\n",
      " |    |-- hostname: string (nullable = true)\n",
      " |    |-- name: string (nullable = true)\n",
      " |    |-- version: string (nullable = true)\n",
      " |-- dst_port_number: integer (nullable = true)\n",
      " |-- event_data: struct (nullable = true)\n",
      " |-- event_id: long (nullable = true)\n",
      " |-- host_name: string (nullable = true)\n",
      " |-- impersonation_level: string (nullable = true)\n",
      " |-- keywords: string (nullable = true)\n",
      " |-- level: string (nullable = true)\n",
      " |-- log_name: string (nullable = true)\n",
      " |-- logon_authentication_package: string (nullable = true)\n",
      " |-- logon_elevated_token: string (nullable = true)\n",
      " |-- logon_key_length: string (nullable = true)\n",
      " |-- logon_package_name: string (nullable = true)\n",
      " |-- logon_privileges_assigned: string (nullable = true)\n",
      " |-- logon_process_name: string (nullable = true)\n",
      " |-- logon_restricted_adminmode: string (nullable = true)\n",
      " |-- logon_transmitted_services: string (nullable = true)\n",
      " |-- logon_type: string (nullable = true)\n",
      " |-- logon_virtual_account: string (nullable = true)\n",
      " |-- message: string (nullable = true)\n",
      " |-- opcode: string (nullable = true)\n",
      " |-- process_id: integer (nullable = true)\n",
      " |-- process_name: string (nullable = true)\n",
      " |-- process_parent_id: integer (nullable = true)\n",
      " |-- process_path: string (nullable = true)\n",
      " |-- process_target_id: integer (nullable = true)\n",
      " |-- provider_guid: string (nullable = true)\n",
      " |-- record_number: string (nullable = true)\n",
      " |-- reporter_logon_id: string (nullable = true)\n",
      " |-- reporter_user_domain: string (nullable = true)\n",
      " |-- reporter_user_name: string (nullable = true)\n",
      " |-- reporter_user_sid: string (nullable = true)\n",
      " |-- service_enumerated_domain: string (nullable = true)\n",
      " |-- service_enumerated_name: string (nullable = true)\n",
      " |-- service_enumerated_sid: string (nullable = true)\n",
      " |-- service_host_info: string (nullable = true)\n",
      " |-- service_host_name: string (nullable = true)\n",
      " |-- source_name: string (nullable = true)\n",
      " |-- src_host: string (nullable = true)\n",
      " |-- src_ip: string (nullable = true)\n",
      " |-- src_port_number: integer (nullable = true)\n",
      " |-- system_new_time: timestamp (nullable = true)\n",
      " |-- system_previous_time: timestamp (nullable = true)\n",
      " |-- task: string (nullable = true)\n",
      " |-- thread_id: long (nullable = true)\n",
      " |-- type: string (nullable = true)\n",
      " |-- user_domain: string (nullable = true)\n",
      " |-- user_explicit_domain: string (nullable = true)\n",
      " |-- user_explicit_logon_guid: string (nullable = true)\n",
      " |-- user_explicit_name: string (nullable = true)\n",
      " |-- user_logon_guid: string (nullable = true)\n",
      " |-- user_logon_id: long (nullable = true)\n",
      " |-- user_logon_linkedid: string (nullable = true)\n",
      " |-- user_name: string (nullable = true)\n",
      " |-- user_networkaccount_domain: string (nullable = true)\n",
      " |-- user_networkaccount_name: string (nullable = true)\n",
      " |-- user_sid: string (nullable = true)\n",
      " |-- version: integer (nullable = true)\n",
      "\n"
     ]
    }
   ],
   "source": [
    "df.printSchema()"
   ]
  },
  {
   "cell_type": "code",
   "execution_count": 8,
   "metadata": {},
   "outputs": [
    {
     "name": "stdout",
     "output_type": "stream",
     "text": [
      "+--------------------+\n",
      "|                task|\n",
      "+--------------------+\n",
      "|User Account Mana...|\n",
      "|       Special Logon|\n",
      "|               Logon|\n",
      "|       Special Logon|\n",
      "|               Logon|\n",
      "|               Logon|\n",
      "|              Logoff|\n",
      "|              Logoff|\n",
      "|               Logon|\n",
      "+--------------------+\n",
      "\n"
     ]
    }
   ],
   "source": [
    "df.select(\"task\").show()"
   ]
  },
  {
   "cell_type": "code",
   "execution_count": null,
   "metadata": {},
   "outputs": [],
   "source": []
  }
 ],
 "metadata": {
  "kernelspec": {
   "display_name": "PySpark",
   "language": "python",
   "name": "python3"
  },
  "language_info": {
   "codemirror_mode": {
    "name": "ipython",
    "version": 3
   },
   "file_extension": ".py",
   "mimetype": "text/x-python",
   "name": "python",
   "nbconvert_exporter": "python",
   "pygments_lexer": "ipython3",
   "version": "3.5.2"
  }
 },
 "nbformat": 4,
 "nbformat_minor": 2
}
