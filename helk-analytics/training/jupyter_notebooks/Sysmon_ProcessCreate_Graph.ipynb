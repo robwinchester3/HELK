{
 "cells": [
  {
   "cell_type": "markdown",
   "metadata": {},
   "source": [
    "# **HELK: Basic Sysmon ProcessCreate Graph Query**\n",
    "## Goals:\n",
    "* Confirm Jupyter can talk to Spark & Graphframes\n",
    "* Confirm Spark & Graphframes can pull data from ES\n",
    "* Create a graphframe from sysmon Index\n",
    "  * Creating vertices and edges dataframes\n",
    "* Running a basic query using GraphFrames Motifs"
   ]
  },
  {
   "cell_type": "markdown",
   "metadata": {},
   "source": [
    "## Check the Spark Context via the variable spark"
   ]
  },
  {
   "cell_type": "code",
   "execution_count": 1,
   "metadata": {},
   "outputs": [
    {
     "data": {
      "text/html": [
       "\n",
       "            <div>\n",
       "                <p><b>SparkSession - hive</b></p>\n",
       "                \n",
       "        <div>\n",
       "            <p><b>SparkContext</b></p>\n",
       "\n",
       "            <p><a href=\"http://98d1dde90381:4041\">Spark UI</a></p>\n",
       "\n",
       "            <dl>\n",
       "              <dt>Version</dt>\n",
       "                <dd><code>v2.3.0</code></dd>\n",
       "              <dt>Master</dt>\n",
       "                <dd><code>local[*]</code></dd>\n",
       "              <dt>AppName</dt>\n",
       "                <dd><code>PySparkShell</code></dd>\n",
       "            </dl>\n",
       "        </div>\n",
       "        \n",
       "            </div>\n",
       "        "
      ],
      "text/plain": [
       "<pyspark.sql.session.SparkSession at 0x7f177c59efd0>"
      ]
     },
     "execution_count": 1,
     "metadata": {},
     "output_type": "execute_result"
    }
   ],
   "source": [
    "spark"
   ]
  },
  {
   "cell_type": "markdown",
   "metadata": {},
   "source": [
    "## Import Graphframes & SQL Functions"
   ]
  },
  {
   "cell_type": "code",
   "execution_count": 2,
   "metadata": {},
   "outputs": [],
   "source": [
    "from graphframes import *"
   ]
  },
  {
   "cell_type": "code",
   "execution_count": 11,
   "metadata": {},
   "outputs": [],
   "source": [
    "from pyspark.sql.functions import *"
   ]
  },
  {
   "cell_type": "markdown",
   "metadata": {},
   "source": [
    "## Set a Custom Spark Session"
   ]
  },
  {
   "cell_type": "code",
   "execution_count": 12,
   "metadata": {},
   "outputs": [],
   "source": [
    "spark = SparkSession \\\n",
    "    .builder \\\n",
    "    .appName(\"HELK\") \\\n",
    "    .config(\"es.read.field.as.array.include\", \"tags\") \\\n",
    "    .config(\"es.nodes\",\"172.18.0.2:9200\") \\\n",
    "    .getOrCreate()"
   ]
  },
  {
   "cell_type": "markdown",
   "metadata": {},
   "source": [
    "## Read data from the HELK (Elasticsearch-Sysmon Index)"
   ]
  },
  {
   "cell_type": "code",
   "execution_count": 13,
   "metadata": {},
   "outputs": [],
   "source": [
    "df = spark.read.format(\"org.elasticsearch.spark.sql\").load(\"logs-endpoint-winevent-sysmon-*/doc\")"
   ]
  },
  {
   "cell_type": "markdown",
   "metadata": {},
   "source": [
    "## Print DataFrame Schema"
   ]
  },
  {
   "cell_type": "code",
   "execution_count": 14,
   "metadata": {},
   "outputs": [
    {
     "name": "stdout",
     "output_type": "stream",
     "text": [
      "root\n",
      " |-- @meta: struct (nullable = true)\n",
      " |    |-- sysmon: struct (nullable = true)\n",
      " |    |    |-- timestamp: timestamp (nullable = true)\n",
      " |-- @timestamp: timestamp (nullable = true)\n",
      " |-- @version: string (nullable = true)\n",
      " |-- action: string (nullable = true)\n",
      " |-- beat: struct (nullable = true)\n",
      " |    |-- hostname: string (nullable = true)\n",
      " |    |-- name: string (nullable = true)\n",
      " |    |-- version: string (nullable = true)\n",
      " |-- command_line: string (nullable = true)\n",
      " |-- dst_host: string (nullable = true)\n",
      " |-- dst_ip: string (nullable = true)\n",
      " |-- dst_isipv6: string (nullable = true)\n",
      " |-- dst_port_name: string (nullable = true)\n",
      " |-- dst_port_number: integer (nullable = true)\n",
      " |-- event_id: integer (nullable = true)\n",
      " |-- file_creation_time: string (nullable = true)\n",
      " |-- file_name: string (nullable = true)\n",
      " |-- geoip: struct (nullable = true)\n",
      " |    |-- city_name: string (nullable = true)\n",
      " |    |-- continent_code: string (nullable = true)\n",
      " |    |-- country_code2: string (nullable = true)\n",
      " |    |-- country_code3: string (nullable = true)\n",
      " |    |-- country_name: string (nullable = true)\n",
      " |    |-- dma_code: integer (nullable = true)\n",
      " |    |-- latitude: float (nullable = true)\n",
      " |    |-- location: struct (nullable = true)\n",
      " |    |    |-- lat: double (nullable = true)\n",
      " |    |    |-- lon: double (nullable = true)\n",
      " |    |-- longitude: float (nullable = true)\n",
      " |    |-- postal_code: string (nullable = true)\n",
      " |    |-- region_code: string (nullable = true)\n",
      " |    |-- region_name: string (nullable = true)\n",
      " |    |-- timezone: string (nullable = true)\n",
      " |-- hash_imphash: string (nullable = true)\n",
      " |-- hash_md5: string (nullable = true)\n",
      " |-- hash_sha1: string (nullable = true)\n",
      " |-- hash_sha256: string (nullable = true)\n",
      " |-- host_name: string (nullable = true)\n",
      " |-- image_loaded: string (nullable = true)\n",
      " |-- image_signature: string (nullable = true)\n",
      " |-- image_signature_status: string (nullable = true)\n",
      " |-- image_signed: boolean (nullable = true)\n",
      " |-- level: string (nullable = true)\n",
      " |-- log_name: string (nullable = true)\n",
      " |-- network_initiated: boolean (nullable = true)\n",
      " |-- network_protocol: string (nullable = true)\n",
      " |-- opcode: string (nullable = true)\n",
      " |-- parent_command_line: string (nullable = true)\n",
      " |-- pipe_name: string (nullable = true)\n",
      " |-- process_calltrace: string (nullable = true)\n",
      " |-- process_current_directory: string (nullable = true)\n",
      " |-- process_granted_access: string (nullable = true)\n",
      " |-- process_guid: string (nullable = true)\n",
      " |-- process_id: integer (nullable = true)\n",
      " |-- process_integrity_level: string (nullable = true)\n",
      " |-- process_name: string (nullable = true)\n",
      " |-- process_parent_guid: string (nullable = true)\n",
      " |-- process_parent_id: integer (nullable = true)\n",
      " |-- process_parent_name: string (nullable = true)\n",
      " |-- process_parent_path: string (nullable = true)\n",
      " |-- process_path: string (nullable = true)\n",
      " |-- process_target_guid: string (nullable = true)\n",
      " |-- process_target_id: integer (nullable = true)\n",
      " |-- process_target_name: string (nullable = true)\n",
      " |-- process_target_path: string (nullable = true)\n",
      " |-- process_thread_id: string (nullable = true)\n",
      " |-- provider_guid: string (nullable = true)\n",
      " |-- rawaccess_read_device: string (nullable = true)\n",
      " |-- record_number: string (nullable = true)\n",
      " |-- registry_details: string (nullable = true)\n",
      " |-- registry_event_type: string (nullable = true)\n",
      " |-- registry_target_object: string (nullable = true)\n",
      " |-- reporter_user_domain: string (nullable = true)\n",
      " |-- reporter_user_name: string (nullable = true)\n",
      " |-- reporter_user_sid: string (nullable = true)\n",
      " |-- reporter_user_type: string (nullable = true)\n",
      " |-- source_name: string (nullable = true)\n",
      " |-- src_host: string (nullable = true)\n",
      " |-- src_ip: string (nullable = true)\n",
      " |-- src_is_ipv6: string (nullable = true)\n",
      " |-- src_port_name: string (nullable = true)\n",
      " |-- src_port_number: integer (nullable = true)\n",
      " |-- tags: array (nullable = true)\n",
      " |    |-- element: string (containsNull = true)\n",
      " |-- task: string (nullable = true)\n",
      " |-- terminal_session_id: integer (nullable = true)\n",
      " |-- thread_id: integer (nullable = true)\n",
      " |-- thread_newthreadid: integer (nullable = true)\n",
      " |-- type: string (nullable = true)\n",
      " |-- user: struct (nullable = true)\n",
      " |-- user_domain: string (nullable = true)\n",
      " |-- user_logon_guid: string (nullable = true)\n",
      " |-- user_logon_id: long (nullable = true)\n",
      " |-- user_name: string (nullable = true)\n",
      " |-- version: integer (nullable = true)\n",
      "\n"
     ]
    }
   ],
   "source": [
    "df.printSchema()"
   ]
  },
  {
   "cell_type": "markdown",
   "metadata": {},
   "source": [
    "## Create Vertices & Edges Dataframes"
   ]
  },
  {
   "cell_type": "code",
   "execution_count": 28,
   "metadata": {},
   "outputs": [],
   "source": [
    "v = df.withColumn(\"id\", df.process_guid).select(\"id\",\"user_name\",\"host_name\",\"process_parent_name\",\"process_name\",\"action\")\n",
    "v = v.filter(v.action == \"processcreate\")"
   ]
  },
  {
   "cell_type": "code",
   "execution_count": 30,
   "metadata": {},
   "outputs": [
    {
     "name": "stdout",
     "output_type": "stream",
     "text": [
      "+------------------------------------+---------+---------------+-------------------+----------------------+-------------+\n",
      "|id                                  |user_name|host_name      |process_parent_name|process_name          |action       |\n",
      "+------------------------------------+---------+---------------+-------------------+----------------------+-------------+\n",
      "|A98268C1-7717-5A99-0000-001044AED200|wardog   |DESKTOP-29DJI4T|svchost.exe        |backgroundTaskHost.exe|processcreate|\n",
      "|A98268C1-7725-5A99-0000-0010042CD400|wardog   |DESKTOP-29DJI4T|svchost.exe        |RuntimeBroker.exe     |processcreate|\n",
      "|A98268C1-772B-5A99-0000-001054EDD400|SYSTEM   |DESKTOP-29DJI4T|services.exe       |TrustedInstaller.exe  |processcreate|\n",
      "+------------------------------------+---------+---------------+-------------------+----------------------+-------------+\n",
      "only showing top 3 rows\n",
      "\n"
     ]
    }
   ],
   "source": [
    "v.show(3,truncate=False)"
   ]
  },
  {
   "cell_type": "code",
   "execution_count": 31,
   "metadata": {},
   "outputs": [],
   "source": [
    "e = df.filter(df.action == \"processcreate\").selectExpr(\"process_parent_guid as src\",\"process_guid as dst\").withColumn(\"relationship\", lit(\"spawned\"))"
   ]
  },
  {
   "cell_type": "code",
   "execution_count": 33,
   "metadata": {},
   "outputs": [
    {
     "name": "stdout",
     "output_type": "stream",
     "text": [
      "+------------------------------------+------------------------------------+------------+\n",
      "|src                                 |dst                                 |relationship|\n",
      "+------------------------------------+------------------------------------+------------+\n",
      "|A98268C1-7715-5A99-0000-00109295D200|A98268C1-772A-5A99-0000-0010A58CD400|spawned     |\n",
      "|A98268C1-A584-5A97-0000-0010B9240100|A98268C1-7715-5A99-0000-00101E8DD200|spawned     |\n",
      "|A98268C1-770F-5A99-0000-0010A712D200|A98268C1-7715-5A99-0000-0010EE99D200|spawned     |\n",
      "+------------------------------------+------------------------------------+------------+\n",
      "only showing top 3 rows\n",
      "\n"
     ]
    }
   ],
   "source": [
    "e.show(3,truncate=False)"
   ]
  },
  {
   "cell_type": "markdown",
   "metadata": {},
   "source": [
    "## Create a Graph (Vertices & Edges DataFrames)"
   ]
  },
  {
   "cell_type": "code",
   "execution_count": 34,
   "metadata": {},
   "outputs": [],
   "source": [
    "g = GraphFrame(v, e)"
   ]
  },
  {
   "cell_type": "markdown",
   "metadata": {},
   "source": [
    "## Look for (Process A spawning Process B AND Process B Spawning Process C) "
   ]
  },
  {
   "cell_type": "code",
   "execution_count": 35,
   "metadata": {},
   "outputs": [],
   "source": [
    "motifs = g.find(\"(a)-[]->(b);(b)-[]->(c)\")"
   ]
  },
  {
   "cell_type": "code",
   "execution_count": 43,
   "metadata": {},
   "outputs": [
    {
     "name": "stdout",
     "output_type": "stream",
     "text": [
      "+-------------------+-------------------+-------------------+-------------------+-------------------+-------------------+\n",
      "|process_parent_name|process_name       |process_parent_name|process_name       |process_parent_name|process_name       |\n",
      "+-------------------+-------------------+-------------------+-------------------+-------------------+-------------------+\n",
      "|svchost.exe        |DeviceCensus.exe   |DeviceCensus.exe   |DeviceCensus.exe   |DeviceCensus.exe   |conhost.exe        |\n",
      "|explorer.exe       |powershell.exe     |powershell.exe     |cmd.exe            |cmd.exe            |powershell.exe     |\n",
      "|svchost.exe        |CompatTelRunner.exe|CompatTelRunner.exe|CompatTelRunner.exe|CompatTelRunner.exe|CompatTelRunner.exe|\n",
      "+-------------------+-------------------+-------------------+-------------------+-------------------+-------------------+\n",
      "\n"
     ]
    }
   ],
   "source": [
    "motifs.select(\"a.process_parent_name\",\"a.process_name\",\"b.process_parent_name\",\"b.process_name\",\"c.process_parent_name\",\"c.process_name\").show(10,truncate=False)"
   ]
  },
  {
   "cell_type": "code",
   "execution_count": null,
   "metadata": {},
   "outputs": [],
   "source": []
  }
 ],
 "metadata": {
  "kernelspec": {
   "display_name": "PySpark",
   "language": "python",
   "name": "python3"
  },
  "language_info": {
   "codemirror_mode": {
    "name": "ipython",
    "version": 3
   },
   "file_extension": ".py",
   "mimetype": "text/x-python",
   "name": "python",
   "nbconvert_exporter": "python",
   "pygments_lexer": "ipython3",
   "version": "3.5.2"
  }
 },
 "nbformat": 4,
 "nbformat_minor": 2
}
